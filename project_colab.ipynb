{
  "cells": [
    {
      "cell_type": "markdown",
      "metadata": {
        "id": "view-in-github",
        "colab_type": "text"
      },
      "source": [
        "<a href=\"https://colab.research.google.com/github/dagnybrand/AI-news-bias/blob/main/project_colab.ipynb\" target=\"_parent\"><img src=\"https://colab.research.google.com/assets/colab-badge.svg\" alt=\"Open In Colab\"/></a>"
      ]
    },
    {
      "cell_type": "code",
      "source": [
        "import json\n",
        "\n",
        "# load embedded data from file\n",
        "# don't know how to get it from drive or GitHub yet, but it is stored in both places\n",
        "with open('embedded.json', 'r') as f:\n",
        "  embedded_dict = json.load(f)"
      ],
      "metadata": {
        "id": "nlbbnupJujiG"
      },
      "execution_count": 5,
      "outputs": []
    },
    {
      "cell_type": "code",
      "source": [
        "import pandas as pd\n",
        "\n",
        "# starting with only using content data\n",
        "\n",
        "# X data is content df and y data is bias list\n",
        "content_df = pd.DataFrame(embedded_dict['content'])\n",
        "bias_list = embedded_dict['biases']\n",
        "\n"
      ],
      "metadata": {
        "id": "uVVJb6O2vN_S"
      },
      "execution_count": 9,
      "outputs": []
    },
    {
      "cell_type": "code",
      "source": [
        "# get training data\n",
        "import sklearn.model_selection\n",
        "\n",
        "X_train, X_test, y_train, y_test = sklearn.model_selection.train_test_split(content_df, bias_list, test_size=0.3, random_state=42)"
      ],
      "metadata": {
        "id": "-RasFcR2wJxe"
      },
      "execution_count": 15,
      "outputs": []
    },
    {
      "cell_type": "code",
      "source": [
        "import sklearn.discriminant_analysis\n",
        "\n",
        "# try to train using linear classifier\n",
        "lda = sklearn.discriminant_analysis.LinearDiscriminantAnalysis()\n",
        "\n",
        "lda.fit(X_train, y_train)\n",
        "\n",
        "lda.score(X_test, y_test)\n",
        "\n",
        "# lda seems to not be very good\n",
        "# test other classification models?"
      ],
      "metadata": {
        "id": "k_YW0Ozbvsqe",
        "outputId": "654afc03-9442-41de-98ee-c45cc60d7324",
        "colab": {
          "base_uri": "https://localhost:8080/"
        }
      },
      "execution_count": 17,
      "outputs": [
        {
          "output_type": "execute_result",
          "data": {
            "text/plain": [
              "0.3787375415282392"
            ]
          },
          "metadata": {},
          "execution_count": 17
        }
      ]
    }
  ],
  "metadata": {
    "colab": {
      "provenance": [],
      "mount_file_id": "1ETLOrnxQOpoMAKP3soiyYoT3Uxn-lHgF",
      "authorship_tag": "ABX9TyMynQ6GjtXGuwrYrTloBvi6",
      "include_colab_link": true
    },
    "kernelspec": {
      "display_name": "Python 3",
      "name": "python3"
    },
    "language_info": {
      "name": "python"
    }
  },
  "nbformat": 4,
  "nbformat_minor": 0
}