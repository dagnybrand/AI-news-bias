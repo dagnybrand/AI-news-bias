{
  "nbformat": 4,
  "nbformat_minor": 0,
  "metadata": {
    "colab": {
      "provenance": [],
      "mount_file_id": "1yhGqcDfc9yU7rE2lSotRwpnzQyle3nlQ",
      "authorship_tag": "ABX9TyPhaXrl73jp9Re/tEBS1cH6",
      "include_colab_link": true
    },
    "kernelspec": {
      "name": "python3",
      "display_name": "Python 3"
    },
    "language_info": {
      "name": "python"
    }
  },
  "cells": [
    {
      "cell_type": "markdown",
      "metadata": {
        "id": "view-in-github",
        "colab_type": "text"
      },
      "source": [
        "<a href=\"https://colab.research.google.com/github/dagnybrand/AI-news-bias/blob/main/classifier_colab.ipynb\" target=\"_parent\"><img src=\"https://colab.research.google.com/assets/colab-badge.svg\" alt=\"Open In Colab\"/></a>"
      ]
    },
    {
      "cell_type": "code",
      "execution_count": 22,
      "metadata": {
        "id": "hQtDkmCT0kqx"
      },
      "outputs": [],
      "source": [
        "import sklearn\n",
        "import sklearn.model_selection\n",
        "import sklearn.svm\n",
        "import tensorflow as tf\n",
        "import tensorflow_hub as hub\n",
        "import numpy as np\n",
        "import tqdm"
      ]
    },
    {
      "cell_type": "code",
      "source": [
        "import os\n",
        "import pandas as pd\n",
        "\n",
        "def get_df():\n",
        "    frames = []\n",
        "\n",
        "    for file in [f'/content/Notre Dame Project Data - {i} of 10.csv' for i in (1, 10)]:\n",
        "        df = pd.read_csv(file)\n",
        "        frames.append(df)\n",
        "\n",
        "    dataset = pd.concat(frames)\n",
        "    return dataset\n",
        "\n",
        "dataset = get_df()"
      ],
      "metadata": {
        "id": "2Icgkdm21_6t"
      },
      "execution_count": null,
      "outputs": []
    },
    {
      "cell_type": "code",
      "source": [
        "module_url = \"https://tfhub.dev/google/universal-sentence-encoder/4\"\n",
        "model = hub.load(module_url)\n",
        "print (\"module %s loaded\" % module_url)"
      ],
      "metadata": {
        "id": "56ldZOGT1xyv",
        "colab": {
          "base_uri": "https://localhost:8080/"
        },
        "outputId": "dfee37bc-72ca-4fc9-bd5f-36cdd2fa0160"
      },
      "execution_count": null,
      "outputs": [
        {
          "output_type": "stream",
          "name": "stdout",
          "text": [
            "module https://tfhub.dev/google/universal-sentence-encoder/4 loaded\n"
          ]
        }
      ]
    },
    {
      "cell_type": "code",
      "source": [
        "em_corr_action = model(dataset['corr_action'])\n",
        "em_descrep_narrative = model(dataset['descrep_narrative'])\n",
        "em_system_reason_desc = model(dataset['system_reason_desc'])\n"
      ],
      "metadata": {
        "id": "_E0kGhKz16DF"
      },
      "execution_count": 19,
      "outputs": []
    },
    {
      "cell_type": "code",
      "source": [
        "# testing on corr action data\n",
        "input_data = np.array(em_corr_action).tolist()\n",
        "#input_data = dataset[\"corr_action\", \"descrep_narrative\", \"system_reason_desc\"].copy()\n",
        "\n",
        "# classifier for column C\n",
        "output_data = dataset[\"wuc\"].copy()\n",
        "\n",
        "X_train, X_test, y_train, y_test = sklearn.model_selection.train_test_split(input_data, output_data, test_size = 0.3, random_state=42)\n"
      ],
      "metadata": {
        "id": "_0nRJzhg07in"
      },
      "execution_count": 20,
      "outputs": []
    },
    {
      "cell_type": "code",
      "source": [
        "svc = sklearn.svm.SVC(random_state=42)\n",
        "\n",
        "# train SVC model\n",
        "svc.fit(X_train, y_train)\n",
        "\n",
        "# test accuracy on SVC model\n",
        "accuracy = svc.score(X_test, y_test)\n",
        "print(accuracy)"
      ],
      "metadata": {
        "id": "ZMhWVDNz1Dra",
        "colab": {
          "base_uri": "https://localhost:8080/"
        },
        "outputId": "74cbb66d-0b22-453f-d6bb-ed4e4b64da67"
      },
      "execution_count": 24,
      "outputs": [
        {
          "output_type": "stream",
          "name": "stdout",
          "text": [
            "0.9635\n"
          ]
        }
      ]
    }
  ]
}